{
 "cells": [
  {
   "cell_type": "code",
   "execution_count": 7,
   "metadata": {},
   "outputs": [],
   "source": [
    "# Importation des bibliothèques nécessaires\n",
    "import numpy as np\n",
    "import matplotlib.pyplot as plt\n",
    "import seaborn as sns\n",
    "from nltk.corpus import stopwords\n",
    "from nltk import PorterStemmer as Stemmer\n",
    "from sklearn.feature_extraction.text import TfidfVectorizer\n",
    "from sklearn.pipeline import Pipeline\n",
    "from sklearn.model_selection import train_test_split\n",
    "from sklearn.metrics import classification_report, confusion_matrix\n",
    "from sklearn.naive_bayes import MultinomialNB\n",
    "import string"
   ]
  },
  {
   "cell_type": "code",
   "execution_count": 2,
   "metadata": {},
   "outputs": [
    {
     "name": "stdout",
     "output_type": "stream",
     "text": [
      "Requirement already satisfied: nltk in d:\\users\\asus\\anaconda3\\envs\\atelier_ml\\lib\\site-packages (3.9.1)\n",
      "Requirement already satisfied: click in d:\\users\\asus\\anaconda3\\envs\\atelier_ml\\lib\\site-packages (from nltk) (8.1.7)\n",
      "Requirement already satisfied: joblib in d:\\users\\asus\\anaconda3\\envs\\atelier_ml\\lib\\site-packages (from nltk) (1.4.2)\n",
      "Requirement already satisfied: regex>=2021.8.3 in d:\\users\\asus\\anaconda3\\envs\\atelier_ml\\lib\\site-packages (from nltk) (2024.11.6)\n",
      "Requirement already satisfied: tqdm in d:\\users\\asus\\anaconda3\\envs\\atelier_ml\\lib\\site-packages (from nltk) (4.67.1)\n",
      "Requirement already satisfied: colorama in d:\\users\\asus\\anaconda3\\envs\\atelier_ml\\lib\\site-packages (from click->nltk) (0.4.6)\n"
     ]
    }
   ],
   "source": [
    "!pip install nltk\n"
   ]
  },
  {
   "cell_type": "code",
   "execution_count": 9,
   "metadata": {},
   "outputs": [
    {
     "name": "stderr",
     "output_type": "stream",
     "text": [
      "[nltk_data] Downloading package stopwords to\n",
      "[nltk_data]     C:\\Users\\Asus\\AppData\\Roaming\\nltk_data...\n",
      "[nltk_data]   Package stopwords is already up-to-date!\n"
     ]
    }
   ],
   "source": [
    "nltk.download('stopwords')\n",
    "\n",
    "# Charger les données\n",
    "file_path = \"final_dataset1.csv\"  # Remplacez par le chemin de votre fichier\n",
    "df = pd.read_csv(file_path)\n",
    "df = df[['cleaned_content', 'sentiment']]\n",
    "\n",
    "# Renommer les colonnes pour simplifier l'utilisation\n",
    "df.columns = ['review', 'sentiment']\n"
   ]
  },
  {
   "cell_type": "code",
   "execution_count": 11,
   "metadata": {},
   "outputs": [
    {
     "name": "stdout",
     "output_type": "stream",
     "text": [
      "Aperçu des données :\n",
      "                                              review sentiment\n",
      "0  le revêtement céramique pour voiture été une e...  negative\n",
      "1  cest facile à assembler décemment robuste pour...  positive\n",
      "2                               fonctionne très bien  positive\n",
      "3  lowa barcha l brosse w lutilisation mteha sehl...  positive\n",
      "4                            produit fonctionne bien  positive\n"
     ]
    }
   ],
   "source": [
    "# Description du dataset\n",
    "print(\"Aperçu des données :\")\n",
    "print(df.head())\n"
   ]
  },
  {
   "cell_type": "code",
   "execution_count": 12,
   "metadata": {},
   "outputs": [
    {
     "name": "stdout",
     "output_type": "stream",
     "text": [
      "Dimensions du dataset : (1425, 2)\n",
      "Répartition des sentiments :\n",
      "sentiment\n",
      "positive    923\n",
      "negative    384\n",
      "neutral     118\n",
      "Name: count, dtype: int64\n"
     ]
    }
   ],
   "source": [
    "print(f\"Dimensions du dataset : {df.shape}\")\n",
    "print(\"Répartition des sentiments :\")\n",
    "print(df['sentiment'].value_counts())\n"
   ]
  },
  {
   "cell_type": "code",
   "execution_count": 13,
   "metadata": {},
   "outputs": [
    {
     "name": "stdout",
     "output_type": "stream",
     "text": [
      "Informations sur le dataset :\n",
      "<class 'pandas.core.frame.DataFrame'>\n",
      "RangeIndex: 1425 entries, 0 to 1424\n",
      "Data columns (total 2 columns):\n",
      " #   Column     Non-Null Count  Dtype \n",
      "---  ------     --------------  ----- \n",
      " 0   review     1425 non-null   object\n",
      " 1   sentiment  1425 non-null   object\n",
      "dtypes: object(2)\n",
      "memory usage: 22.4+ KB\n",
      "None\n"
     ]
    }
   ],
   "source": [
    "print(\"Informations sur le dataset :\")\n",
    "print(df.info())\n"
   ]
  },
  {
   "cell_type": "code",
   "execution_count": 14,
   "metadata": {},
   "outputs": [
    {
     "name": "stdout",
     "output_type": "stream",
     "text": [
      "Valeurs manquantes par colonne :\n",
      "review       0\n",
      "sentiment    0\n",
      "dtype: int64\n"
     ]
    }
   ],
   "source": [
    "print(\"Valeurs manquantes par colonne :\")\n",
    "print(df.isnull().sum())"
   ]
  },
  {
   "cell_type": "code",
   "execution_count": 30,
   "metadata": {},
   "outputs": [],
   "source": [
    "# Fonction de nettoyage et de normalisation\n",
    "def process(text):\n",
    "    \"\"\"Nettoie et normalise le texte.\"\"\"\n",
    "    text = text.lower()  # Convertir en minuscules\n",
    "    text = ''.join([t for t in text if t not in string.punctuation])  # Supprimer la ponctuation\n",
    "    text = [t for t in text.split() if t not in stopwords.words('french')]  # Supprimer les mots vides\n",
    "    st = Stemmer()\n",
    "    text = [st.stem(t) for t in text]  # Appliquer le stemming\n",
    "    return ' '.join(text)\n",
    "\n",
    "# Appliquer le nettoyage au dataset\n",
    "df['processed_review'] = df['review'].apply(process)"
   ]
  },
  {
   "cell_type": "code",
   "execution_count": 16,
   "metadata": {},
   "outputs": [],
   "source": [
    "# TfidfVectorizer pour transformer les avis en vecteurs\n",
    "tfidfv = TfidfVectorizer(analyzer=process)\n",
    "data = tfidfv.fit_transform(df['processed_review'])"
   ]
  },
  {
   "cell_type": "code",
   "execution_count": 17,
   "metadata": {},
   "outputs": [
    {
     "name": "stdout",
     "output_type": "stream",
     "text": [
      "fonctionne très bien\n",
      "  (0, 34)\t0.2785242332056367\n",
      "  (0, 24)\t0.30266146925589965\n",
      "  (0, 22)\t0.1460546914355228\n",
      "  (0, 19)\t0.3256400508720124\n",
      "  (0, 18)\t0.6560161780519471\n",
      "  (0, 13)\t0.2865872571622245\n",
      "  (0, 10)\t0.1922410784322829\n",
      "  (0, 9)\t0.15252126765743262\n",
      "  (0, 7)\t0.16460019079884744\n",
      "  (0, 6)\t0.18872946700413282\n",
      "  (0, 0)\t0.26081791586823583\n"
     ]
    }
   ],
   "source": [
    "# Exemple d'avis et transformation TF-IDF\n",
    "mess = df.iloc[2]['review']\n",
    "print(mess)\n",
    "print(tfidfv.transform([mess]))"
   ]
  },
  {
   "cell_type": "code",
   "execution_count": 18,
   "metadata": {},
   "outputs": [
    {
     "name": "stdout",
     "output_type": "stream",
     "text": [
      "index\tidf\ttfidf\tterm\n",
      "0\t1.0198\t0.2608\t \n",
      "6\t1.4759\t0.1887\tb\n",
      "7\t1.2872\t0.1646\tc\n",
      "9\t1.1928\t0.1525\te\n",
      "10\t1.5034\t0.1922\tf\n",
      "13\t1.1206\t0.2866\ti\n",
      "18\t1.2826\t0.6560\tn\n",
      "19\t1.2733\t0.3256\to\n",
      "22\t1.1422\t0.1461\tr\n",
      "24\t1.1834\t0.3027\tt\n",
      "34\t2.1781\t0.2785\tè\n"
     ]
    }
   ],
   "source": [
    "# Visualiser les scores TF-IDF\n",
    "j = tfidfv.transform([mess]).toarray()[0]\n",
    "print('index\\tidf\\ttfidf\\tterm')\n",
    "for i in range(len(j)):\n",
    "    if j[i] != 0:\n",
    "        print(i, format(tfidfv.idf_[i], '.4f'), format(j[i], '.4f'),\n",
    "              tfidfv.get_feature_names_out()[i], sep='\\t')"
   ]
  },
  {
   "cell_type": "code",
   "execution_count": 19,
   "metadata": {},
   "outputs": [],
   "source": [
    "# MultinomialNB pour entraîner un classificateur bayésien naïf\n",
    "sentiment_filter = Pipeline([\n",
    "    ('vectorizer', TfidfVectorizer(analyzer=process)),  # Convertir les messages en vecteurs TF-IDF\n",
    "    ('classifier', MultinomialNB())                    # Classificateur Bayésien Naïf\n",
    "])"
   ]
  },
  {
   "cell_type": "code",
   "execution_count": 20,
   "metadata": {},
   "outputs": [
    {
     "data": {
      "text/html": [
       "<style>#sk-container-id-1 {color: black;}#sk-container-id-1 pre{padding: 0;}#sk-container-id-1 div.sk-toggleable {background-color: white;}#sk-container-id-1 label.sk-toggleable__label {cursor: pointer;display: block;width: 100%;margin-bottom: 0;padding: 0.3em;box-sizing: border-box;text-align: center;}#sk-container-id-1 label.sk-toggleable__label-arrow:before {content: \"▸\";float: left;margin-right: 0.25em;color: #696969;}#sk-container-id-1 label.sk-toggleable__label-arrow:hover:before {color: black;}#sk-container-id-1 div.sk-estimator:hover label.sk-toggleable__label-arrow:before {color: black;}#sk-container-id-1 div.sk-toggleable__content {max-height: 0;max-width: 0;overflow: hidden;text-align: left;background-color: #f0f8ff;}#sk-container-id-1 div.sk-toggleable__content pre {margin: 0.2em;color: black;border-radius: 0.25em;background-color: #f0f8ff;}#sk-container-id-1 input.sk-toggleable__control:checked~div.sk-toggleable__content {max-height: 200px;max-width: 100%;overflow: auto;}#sk-container-id-1 input.sk-toggleable__control:checked~label.sk-toggleable__label-arrow:before {content: \"▾\";}#sk-container-id-1 div.sk-estimator input.sk-toggleable__control:checked~label.sk-toggleable__label {background-color: #d4ebff;}#sk-container-id-1 div.sk-label input.sk-toggleable__control:checked~label.sk-toggleable__label {background-color: #d4ebff;}#sk-container-id-1 input.sk-hidden--visually {border: 0;clip: rect(1px 1px 1px 1px);clip: rect(1px, 1px, 1px, 1px);height: 1px;margin: -1px;overflow: hidden;padding: 0;position: absolute;width: 1px;}#sk-container-id-1 div.sk-estimator {font-family: monospace;background-color: #f0f8ff;border: 1px dotted black;border-radius: 0.25em;box-sizing: border-box;margin-bottom: 0.5em;}#sk-container-id-1 div.sk-estimator:hover {background-color: #d4ebff;}#sk-container-id-1 div.sk-parallel-item::after {content: \"\";width: 100%;border-bottom: 1px solid gray;flex-grow: 1;}#sk-container-id-1 div.sk-label:hover label.sk-toggleable__label {background-color: #d4ebff;}#sk-container-id-1 div.sk-serial::before {content: \"\";position: absolute;border-left: 1px solid gray;box-sizing: border-box;top: 0;bottom: 0;left: 50%;z-index: 0;}#sk-container-id-1 div.sk-serial {display: flex;flex-direction: column;align-items: center;background-color: white;padding-right: 0.2em;padding-left: 0.2em;position: relative;}#sk-container-id-1 div.sk-item {position: relative;z-index: 1;}#sk-container-id-1 div.sk-parallel {display: flex;align-items: stretch;justify-content: center;background-color: white;position: relative;}#sk-container-id-1 div.sk-item::before, #sk-container-id-1 div.sk-parallel-item::before {content: \"\";position: absolute;border-left: 1px solid gray;box-sizing: border-box;top: 0;bottom: 0;left: 50%;z-index: -1;}#sk-container-id-1 div.sk-parallel-item {display: flex;flex-direction: column;z-index: 1;position: relative;background-color: white;}#sk-container-id-1 div.sk-parallel-item:first-child::after {align-self: flex-end;width: 50%;}#sk-container-id-1 div.sk-parallel-item:last-child::after {align-self: flex-start;width: 50%;}#sk-container-id-1 div.sk-parallel-item:only-child::after {width: 0;}#sk-container-id-1 div.sk-dashed-wrapped {border: 1px dashed gray;margin: 0 0.4em 0.5em 0.4em;box-sizing: border-box;padding-bottom: 0.4em;background-color: white;}#sk-container-id-1 div.sk-label label {font-family: monospace;font-weight: bold;display: inline-block;line-height: 1.2em;}#sk-container-id-1 div.sk-label-container {text-align: center;}#sk-container-id-1 div.sk-container {/* jupyter's `normalize.less` sets `[hidden] { display: none; }` but bootstrap.min.css set `[hidden] { display: none !important; }` so we also need the `!important` here to be able to override the default hidden behavior on the sphinx rendered scikit-learn.org. See: https://github.com/scikit-learn/scikit-learn/issues/21755 */display: inline-block !important;position: relative;}#sk-container-id-1 div.sk-text-repr-fallback {display: none;}</style><div id=\"sk-container-id-1\" class=\"sk-top-container\"><div class=\"sk-text-repr-fallback\"><pre>Pipeline(steps=[(&#x27;vectorizer&#x27;,\n",
       "                 TfidfVectorizer(analyzer=&lt;function process at 0x00000227C6284670&gt;)),\n",
       "                (&#x27;classifier&#x27;, MultinomialNB())])</pre><b>In a Jupyter environment, please rerun this cell to show the HTML representation or trust the notebook. <br />On GitHub, the HTML representation is unable to render, please try loading this page with nbviewer.org.</b></div><div class=\"sk-container\" hidden><div class=\"sk-item sk-dashed-wrapped\"><div class=\"sk-label-container\"><div class=\"sk-label sk-toggleable\"><input class=\"sk-toggleable__control sk-hidden--visually\" id=\"sk-estimator-id-1\" type=\"checkbox\" ><label for=\"sk-estimator-id-1\" class=\"sk-toggleable__label sk-toggleable__label-arrow\">Pipeline</label><div class=\"sk-toggleable__content\"><pre>Pipeline(steps=[(&#x27;vectorizer&#x27;,\n",
       "                 TfidfVectorizer(analyzer=&lt;function process at 0x00000227C6284670&gt;)),\n",
       "                (&#x27;classifier&#x27;, MultinomialNB())])</pre></div></div></div><div class=\"sk-serial\"><div class=\"sk-item\"><div class=\"sk-estimator sk-toggleable\"><input class=\"sk-toggleable__control sk-hidden--visually\" id=\"sk-estimator-id-2\" type=\"checkbox\" ><label for=\"sk-estimator-id-2\" class=\"sk-toggleable__label sk-toggleable__label-arrow\">TfidfVectorizer</label><div class=\"sk-toggleable__content\"><pre>TfidfVectorizer(analyzer=&lt;function process at 0x00000227C6284670&gt;)</pre></div></div></div><div class=\"sk-item\"><div class=\"sk-estimator sk-toggleable\"><input class=\"sk-toggleable__control sk-hidden--visually\" id=\"sk-estimator-id-3\" type=\"checkbox\" ><label for=\"sk-estimator-id-3\" class=\"sk-toggleable__label sk-toggleable__label-arrow\">MultinomialNB</label><div class=\"sk-toggleable__content\"><pre>MultinomialNB()</pre></div></div></div></div></div></div></div>"
      ],
      "text/plain": [
       "Pipeline(steps=[('vectorizer',\n",
       "                 TfidfVectorizer(analyzer=<function process at 0x00000227C6284670>)),\n",
       "                ('classifier', MultinomialNB())])"
      ]
     },
     "execution_count": 20,
     "metadata": {},
     "output_type": "execute_result"
    }
   ],
   "source": [
    "# Séparation des données en ensembles d'entraînement et de test\n",
    "x_train, x_test, y_train, y_test = train_test_split(df['review'], df['sentiment'], test_size=0.30, random_state=21)\n",
    "sentiment_filter.fit(x_train, y_train)\n"
   ]
  },
  {
   "cell_type": "code",
   "execution_count": 47,
   "metadata": {},
   "outputs": [
    {
     "name": "stdout",
     "output_type": "stream",
     "text": [
      "Précision sur l'entraînement : 0.7432296890672017\n",
      "Précision sur le test : 0.7733644859813084\n",
      "\n",
      "Rapport sur l'ensemble d'entraînement :\n",
      "               precision    recall  f1-score   support\n",
      "\n",
      "    negative       0.71      0.42      0.53       275\n",
      "     neutral       1.00      0.09      0.16        89\n",
      "    positive       0.75      0.97      0.85       633\n",
      "\n",
      "    accuracy                           0.74       997\n",
      "   macro avg       0.82      0.50      0.51       997\n",
      "weighted avg       0.76      0.74      0.70       997\n",
      "\n",
      "\n",
      "Rapport sur l'ensemble de test :\n",
      "               precision    recall  f1-score   support\n",
      "\n",
      "    negative       0.67      0.41      0.51       109\n",
      "     neutral       1.00      0.14      0.24        29\n",
      "    positive       0.79      0.97      0.87       290\n",
      "\n",
      "    accuracy                           0.77       428\n",
      "   macro avg       0.82      0.51      0.54       428\n",
      "weighted avg       0.77      0.77      0.74       428\n",
      "\n"
     ]
    }
   ],
   "source": [
    "# Prédictions sur l'ensemble d'entraînement et de test\n",
    "y_train_pred = sentiment_filter.predict(x_train)\n",
    "y_test_pred = sentiment_filter.predict(x_test)\n",
    "\n",
    "# Calcul des métriques sur l'ensemble d'entraînement\n",
    "from sklearn.metrics import accuracy_score, classification_report\n",
    "train_accuracy = accuracy_score(y_train, y_train_pred)\n",
    "print(\"Précision sur l'entraînement :\", train_accuracy)\n",
    "\n",
    "# Calcul des métriques sur l'ensemble de test\n",
    "test_accuracy = accuracy_score(y_test, y_test_pred)\n",
    "print(\"Précision sur le test :\", test_accuracy)\n",
    "\n",
    "# Rapport détaillé\n",
    "print(\"\\nRapport sur l'ensemble d'entraînement :\\n\", classification_report(y_train, y_train_pred))\n",
    "print(\"\\nRapport sur l'ensemble de test :\\n\", classification_report(y_test, y_test_pred))\n"
   ]
  },
  {
   "cell_type": "code",
   "execution_count": 21,
   "metadata": {},
   "outputs": [
    {
     "name": "stdout",
     "output_type": "stream",
     "text": [
      "Total number of test cases 428\n",
      "Number of wrong predictions 97\n"
     ]
    }
   ],
   "source": [
    "# Prédictions sur les données de test\n",
    "predictions = sentiment_filter.predict(x_test)\n",
    "count = 0\n",
    "for i in range(len(y_test)):\n",
    "    if y_test.iloc[i] != predictions[i]:\n",
    "        count += 1\n",
    "print('Total number of test cases', len(y_test))\n",
    "print('Number of wrong predictions', count)\n"
   ]
  },
  {
   "cell_type": "code",
   "execution_count": 22,
   "metadata": {},
   "outputs": [
    {
     "name": "stdout",
     "output_type": "stream",
     "text": [
      "              precision    recall  f1-score   support\n",
      "\n",
      "    negative       0.67      0.41      0.51       109\n",
      "     neutral       1.00      0.14      0.24        29\n",
      "    positive       0.79      0.97      0.87       290\n",
      "\n",
      "    accuracy                           0.77       428\n",
      "   macro avg       0.82      0.51      0.54       428\n",
      "weighted avg       0.77      0.77      0.74       428\n",
      "\n"
     ]
    }
   ],
   "source": [
    "# Calculer le Rappel, Précision et F1-Score\n",
    "print(classification_report(y_test, predictions))\n"
   ]
  },
  {
   "cell_type": "code",
   "execution_count": 23,
   "metadata": {},
   "outputs": [
    {
     "data": {
      "image/png": "[encoded data removed]",
      "text/plain": [
       "<Figure size 600x400 with 2 Axes>"
      ]
     },
     "metadata": {},
     "output_type": "display_data"
    }
   ],
   "source": [
    "# Matrice de confusion\n",
    "cm = confusion_matrix(y_test, predictions)\n",
    "plt.figure(figsize=(6, 4))\n",
    "sns.heatmap(cm, annot=True, fmt='d', cmap='Blues', xticklabels=['Positif', 'Négatif', 'Neutre'], yticklabels=['Positif', 'Négatif', 'Neutre'])\n",
    "plt.title('Matrice de confusion')\n",
    "plt.xlabel('Prédiction')\n",
    "plt.ylabel('Réel')\n",
    "plt.show()"
   ]
  },
  {
   "cell_type": "code",
   "execution_count": 24,
   "metadata": {},
   "outputs": [],
   "source": [
    "# Visualisation des erreurs de classification\n",
    "errors_as_positive = x_test[(predictions == 'Positif') & (y_test != 'Positif')]\n",
    "errors_as_negative = x_test[(predictions == 'Négatif') & (y_test != 'Négatif')]\n",
    "errors_as_neutral = x_test[(predictions == 'Neutre') & (y_test != 'Neutre')]\n"
   ]
  },
  {
   "cell_type": "code",
   "execution_count": 25,
   "metadata": {},
   "outputs": [],
   "source": [
    "# Convertir les erreurs en DataFrame\n",
    "errors_as_positive = pd.DataFrame({'Message': errors_as_positive})\n",
    "errors_as_negative = pd.DataFrame({'Message': errors_as_negative})\n",
    "errors_as_neutral = pd.DataFrame({'Message': errors_as_neutral})\n"
   ]
  },
  {
   "cell_type": "code",
   "execution_count": 26,
   "metadata": {},
   "outputs": [
    {
     "name": "stdout",
     "output_type": "stream",
     "text": [
      "Messages mal classés comme Positif :\n",
      " Empty DataFrame\n",
      "Columns: [Message]\n",
      "Index: []\n",
      "Messages mal classés comme Négatif :\n",
      " Empty DataFrame\n",
      "Columns: [Message]\n",
      "Index: []\n",
      "Messages mal classés comme Neutre :\n",
      " Empty DataFrame\n",
      "Columns: [Message]\n",
      "Index: []\n"
     ]
    }
   ],
   "source": [
    "# Afficher les erreurs mal classées\n",
    "print(\"Messages mal classés comme Positif :\\n\", errors_as_positive)\n",
    "print(\"Messages mal classés comme Négatif :\\n\", errors_as_negative)\n",
    "print(\"Messages mal classés comme Neutre :\\n\", errors_as_neutral)\n"
   ]
  },
  {
   "cell_type": "code",
   "execution_count": 27,
   "metadata": {},
   "outputs": [
    {
     "data": {
      "image/png": "[encoded data removed]",
      "text/plain": [
       "<Figure size 1000x600 with 1 Axes>"
      ]
     },
     "metadata": {},
     "output_type": "display_data"
    }
   ],
   "source": [
    "# Visualisation des erreurs de classification (longueur des messages)\n",
    "plt.figure(figsize=(10, 6))\n",
    "plt.barh(range(len(errors_as_positive)), [len(msg) for msg in errors_as_positive['Message']])\n",
    "plt.yticks(range(len(errors_as_positive)), errors_as_positive['Message'], fontsize=8)\n",
    "plt.xlabel(\"Longueur du message\")\n",
    "plt.title(\"Messages mal classés comme Positif\")\n",
    "plt.tight_layout()\n",
    "plt.show()"
   ]
  },
  {
   "cell_type": "code",
   "execution_count": 41,
   "metadata": {},
   "outputs": [
    {
     "name": "stdout",
     "output_type": "stream",
     "text": [
      "L'avis est classé comme : positive\n"
     ]
    }
   ],
   "source": [
    "# Prédire un avis donné\n",
    "test_message = [\"The service was excellent\"]\n",
    "result = sentiment_filter.predict(test_message)\n",
    "print(\"L'avis est classé comme :\", result[0])  # Positif, Négatif ou Neutre\n"
   ]
  },
  {
   "cell_type": "code",
   "execution_count": 42,
   "metadata": {},
   "outputs": [
    {
     "name": "stdout",
     "output_type": "stream",
     "text": [
      "L'avis est classé comme : negative\n"
     ]
    }
   ],
   "source": [
    "# Prédire un avis avec une mention spécifique\n",
    "test_message2 = [\"khayeb\"]\n",
    "result2 = sentiment_filter.predict(test_message2)\n",
    "print(\"L'avis est classé comme :\", result2[0])  # Positif, Négatif ou Neutre\n"
   ]
  },
  {
   "cell_type": "code",
   "execution_count": 45,
   "metadata": {},
   "outputs": [
    {
     "data": {
      "image/png": "[encoded data removed]",
      "text/plain": [
       "<Figure size 800x600 with 1 Axes>"
      ]
     },
     "metadata": {},
     "output_type": "display_data"
    },
    {
     "ename": "NameError",
     "evalue": "name 'model' is not defined",
     "output_type": "error",
     "traceback": [
      "\u001b[1;31m---------------------------------------------------------------------------\u001b[0m",
      "\u001b[1;31mNameError\u001b[0m                                 Traceback (most recent call last)",
      "Cell \u001b[1;32mIn[45], line 14\u001b[0m\n\u001b[0;32m     10\u001b[0m plt\u001b[38;5;241m.\u001b[39mshow()\n\u001b[0;32m     12\u001b[0m \u001b[38;5;66;03m# Visualisation du nuage de points entre la longueur du contenu et les prédictions du modèle\u001b[39;00m\n\u001b[0;32m     13\u001b[0m \u001b[38;5;66;03m# D'abord, nous appliquons les prédictions sur l'ensemble des données\u001b[39;00m\n\u001b[1;32m---> 14\u001b[0m df[\u001b[38;5;124m'\u001b[39m\u001b[38;5;124mpredicted_sentiment\u001b[39m\u001b[38;5;124m'\u001b[39m] \u001b[38;5;241m=\u001b[39m \u001b[43mmodel\u001b[49m\u001b[38;5;241m.\u001b[39mpredict(X)\n\u001b[0;32m     16\u001b[0m \u001b[38;5;66;03m# Visualisation du nuage de points entre la longueur du contenu et les sentiments prédits\u001b[39;00m\n\u001b[0;32m     17\u001b[0m plt\u001b[38;5;241m.\u001b[39mfigure(figsize\u001b[38;5;241m=\u001b[39m(\u001b[38;5;241m8\u001b[39m, \u001b[38;5;241m6\u001b[39m))\n",
      "\u001b[1;31mNameError\u001b[0m: name 'model' is not defined"
     ]
    }
   ],
   "source": [
    "# Ajouter une colonne pour la longueur du contenu\n",
    "df['content_length'] = df['review'].apply(len)\n",
    "\n",
    "# Visualisation de la relation entre la longueur du contenu et le sentiment avec un boxplot\n",
    "plt.figure(figsize=(8, 6))\n",
    "sns.boxplot(data=df, x='sentiment', y='content_length')\n",
    "plt.title('Relation entre la longueur du contenu et le sentiment')\n",
    "plt.xlabel('Sentiment')\n",
    "plt.ylabel('Longueur du contenu')\n",
    "plt.show()\n",
    "\n",
    "# Visualisation du nuage de points entre la longueur du contenu et les prédictions du modèle\n",
    "# D'abord, nous appliquons les prédictions sur l'ensemble des données\n",
    "df['predicted_sentiment'] = sentiment_model.predict(X)\n",
    "\n",
    "# Visualisation du nuage de points entre la longueur du contenu et les sentiments prédits\n",
    "plt.figure(figsize=(8, 6))\n",
    "sns.scatterplot(data=df, x='content_length', y='sentiment', hue='predicted_sentiment', palette='Set2')\n",
    "plt.title('Nuage de points entre la longueur du contenu et les sentiments prédits')\n",
    "plt.xlabel('Longueur du contenu')\n",
    "plt.ylabel('Sentiment')\n",
    "plt.legend(title='Sentiment prédit')\n",
    "plt.show()\n",
    "\n",
    "# Visualisation du nuage de points entre la longueur du contenu et les vrais sentiments\n",
    "plt.figure(figsize=(8, 6))\n",
    "sns.scatterplot(data=df, x='content_length', y='sentiment', hue='sentiment', palette='Set1')\n",
    "plt.title('Nuage de points entre la longueur du contenu et les vrais sentiments')\n",
    "plt.xlabel('Longueur du contenu')\n",
    "plt.ylabel('Sentiment')\n",
    "plt.legend(title='Sentiment réel')\n",
    "plt.show()\n"
   ]
  },
  {
   "cell_type": "code",
   "execution_count": 46,
   "metadata": {},
   "outputs": [
    {
     "data": {
      "image/png": "[encoded data removed]",
      "text/plain": [
       "<Figure size 331.111x250 with 2 Axes>"
      ]
     },
     "metadata": {},
     "output_type": "display_data"
    }
   ],
   "source": [
    "# Vous pouvez également visualiser des nuages de points pour des caractéristiques numériques\n",
    "sns.pairplot(df, hue='sentiment')\n",
    "plt.show()"
   ]
  }
 ],
 "metadata": {
  "kernelspec": {
   "display_name": "Atelier_ML",
   "language": "python",
   "name": "python3"
  },
  "language_info": {
   "codemirror_mode": {
    "name": "ipython",
    "version": 3
   },
   "file_extension": ".py",
   "mimetype": "text/x-python",
   "name": "python",
   "nbconvert_exporter": "python",
   "pygments_lexer": "ipython3",
   "version": "3.8.20"
  }
 },
 "nbformat": 4,
 "nbformat_minor": 2
}
